{
 "cells": [
  {
   "cell_type": "markdown",
   "id": "ee34c837-9500-4ed4-b5e1-7a9574dbaa98",
   "metadata": {},
   "source": [
    "## Notebook Description\n",
    "\n",
    "This notebook presents features used from PyTorch. They include but are not limited to TensorBoard, `named_children` and hooks for modules.\n",
    "\n",
    "## Loading Modules and Data\n",
    "\n",
    "We will use MNIST dataset for a demo of tensorboard and hooks."
   ]
  },
  {
   "cell_type": "code",
   "execution_count": 1,
   "id": "aee0ba03-72cd-4d43-8c07-049fa54fc686",
   "metadata": {},
   "outputs": [],
   "source": [
    "import torch\n",
    "import torch.nn as nn\n",
    "from torch.utils.data import Dataset, DataLoader\n",
    "from torchvision import datasets\n",
    "from torchvision.transforms import ToTensor\n",
    "import matplotlib.pyplot as plt"
   ]
  },
  {
   "cell_type": "code",
   "execution_count": 2,
   "id": "8f5f3bc8-9754-44d5-aed7-0cd3da228e23",
   "metadata": {},
   "outputs": [],
   "source": [
    "torch.manual_seed(0)\n",
    "training_data = datasets.MNIST(\n",
    "    root=\"data\",\n",
    "    train=True,\n",
    "    download=True,\n",
    "    transform=ToTensor()\n",
    ")\n",
    "\n",
    "torch.manual_seed(0)\n",
    "validation_data = datasets.MNIST(\n",
    "    root=\"data\",\n",
    "    train=False,\n",
    "    download=True,\n",
    "    transform=ToTensor()\n",
    ")"
   ]
  },
  {
   "cell_type": "markdown",
   "id": "c0b6a0c8-c9e1-4579-b863-c4cebe413fd8",
   "metadata": {},
   "source": [
    "Let us plot several pictures."
   ]
  },
  {
   "cell_type": "code",
   "execution_count": 3,
   "id": "f1444f90-944c-4002-b9a3-fcf381e38f5f",
   "metadata": {},
   "outputs": [
    {
     "data": {
      "image/png": "[encoded data removed]",
      "text/plain": [
       "<Figure size 700x700 with 9 Axes>"
      ]
     },
     "metadata": {},
     "output_type": "display_data"
    }
   ],
   "source": [
    "fig, axes = plt.subplots(3,3, figsize=(7,7))\n",
    "\n",
    "for i, j in [(i,j) for i in range(3) for j in range(3)]:\n",
    "    sample_idx = torch.randint(len(training_data), size=(1,)).item()\n",
    "    img, label = training_data[sample_idx]\n",
    "    axes[i, j].set_title(label)\n",
    "    axes[i, j].axis('off')\n",
    "    axes[i, j].imshow(img[0], vmin=0, vmax=1, cmap='grey')"
   ]
  },
  {
   "cell_type": "markdown",
   "id": "55bf6bf5-c126-4bea-8b27-8ab005beabdc",
   "metadata": {},
   "source": [
    "## TensorBoard\n",
    "\n",
    "TensorBoard is a tool developed by TensorFlow team. PyTorch gives access to limited subset of its features. One of the benefits of tensorboard over MatPlotLib is builtin ability to update plots online. Same behaviour can be reached for MatPlotLib, but it requires redrawing figure or axis. To access TensorBoard off Jupyter IDE you must have tensorboard python module installed, then run `tensorboard --logdir runs` in `tutorials` directory.\n",
    "\n",
    "TensorBoard can be manipulated by `SummaryWriter`. TensorBoard saves all data and plots persistantly into folder by default it is `runs`."
   ]
  },
  {
   "cell_type": "code",
   "execution_count": 4,
   "id": "409ca11a-f0ed-4d1a-9968-68c716365fc3",
   "metadata": {},
   "outputs": [],
   "source": [
    "from torch.utils.tensorboard import SummaryWriter\n",
    "import time\n",
    "import numpy as np\n",
    "\n",
    "writer = SummaryWriter()"
   ]
  },
  {
   "cell_type": "markdown",
   "id": "84912395-9652-4cb6-83f5-493773778b4e",
   "metadata": {},
   "source": [
    "`SummaryWriter` has many methods to interact with the board. Here we will note two most significant ones `add_scalar` and `add_figure`, the first adds a numeric value to tag and the second adds a matplotlib figure. Tags are a way to organize TensorBoard, they follow two-storey hierarchy with slash sign as a delimiter. TensorBoard also autonomously adds timestamps to all records made on it and provides a filter to control what shall be displayed, so keeping track of your progress is very straughtforward.\n",
    "\n",
    "Bellow are examples of plotting simple functions, stochastic noise and a figure from above onto the board."
   ]
  },
  {
   "cell_type": "code",
   "execution_count": 5,
   "id": "4c8a0df6-45fe-485b-9956-db5e35ea09e1",
   "metadata": {},
   "outputs": [],
   "source": [
    "for i in range(10):\n",
    "    writer.add_scalar('Det/Linear', i, i)\n",
    "    writer.add_scalar('Det/Quad', i**2 - 4*i, i)\n",
    "    writer.add_scalar('Stoch/np.random', np.random.random(), i)"
   ]
  },
  {
   "cell_type": "code",
   "execution_count": 6,
   "id": "a7fe8a3c-0df1-4588-96de-b41ab5e92249",
   "metadata": {},
   "outputs": [],
   "source": [
    "fig, axes = plt.subplots(3,3, figsize=(7,7))\n",
    "\n",
    "for i, j in [(i,j) for i in range(3) for j in range(3)]:\n",
    "    sample_idx = torch.randint(len(training_data), size=(1,)).item()\n",
    "    img, label = training_data[sample_idx]\n",
    "    axes[i, j].set_title(label)\n",
    "    axes[i, j].axis('off')\n",
    "    axes[i, j].imshow(img[0])\n",
    "\n",
    "writer.add_figure('EDA', fig)\n",
    "plt.close(fig)"
   ]
  },
  {
   "cell_type": "markdown",
   "id": "78befc09-5090-4b1b-a42d-174b7fc390d6",
   "metadata": {},
   "source": [
    "TensorBoard can be viewed from within the Jupyter notebook."
   ]
  },
  {
   "cell_type": "code",
   "execution_count": 7,
   "id": "37afd2b6-ad50-45ae-a47d-6bdc7c65dc69",
   "metadata": {},
   "outputs": [
    {
     "data": {
      "text/html": [
       "\n",
       "      <iframe id=\"tensorboard-frame-5049fc6e9d27bcf6\" width=\"100%\" height=\"800\" frameborder=\"0\">\n",
       "      </iframe>\n",
       "      <script>\n",
       "        (function() {\n",
       "          const frame = document.getElementById(\"tensorboard-frame-5049fc6e9d27bcf6\");\n",
       "          const url = new URL(\"/\", window.location);\n",
       "          const port = 6006;\n",
       "          if (port) {\n",
       "            url.port = port;\n",
       "          }\n",
       "          frame.src = url;\n",
       "        })();\n",
       "      </script>\n",
       "    "
      ],
      "text/plain": [
       "<IPython.core.display.HTML object>"
      ]
     },
     "metadata": {},
     "output_type": "display_data"
    }
   ],
   "source": [
    "%load_ext tensorboard\n",
    "%tensorboard --logdir runs"
   ]
  },
  {
   "cell_type": "markdown",
   "id": "a534f91f-845c-44f6-b3c2-cb1504055eff",
   "metadata": {},
   "source": [
    "## Named Children & Hooks in PyTorch\n",
    "\n",
    "One of the executives principles of Monitorch is ease of use in already established code. We try to achieve it by leverging frameworks tools such as hooks and module children.\n",
    "\n",
    "Hooks are callbacks that are called whenever forward or bacward pass goes through the module. Methods `children` and `named_children` return iterator of submodules directly cotained in the module.\n",
    "\n",
    "Below we create several instances of neural networks and prepare data to train neural net."
   ]
  },
  {
   "cell_type": "code",
   "execution_count": 8,
   "id": "ebceb614-7a88-4234-a085-8fe651d82eb6",
   "metadata": {},
   "outputs": [],
   "source": [
    "train_loader = DataLoader(training_data, batch_size=32, shuffle=True)\n",
    "valid_loader = DataLoader(validation_data, batch_size=32, shuffle=True)"
   ]
  },
  {
   "cell_type": "markdown",
   "id": "671666b5-a202-4448-86de-790f4f7fbadc",
   "metadata": {},
   "source": [
    "Here we define a convolutional neural net, its submodules will be only layers that have state, that is, linear or dropout. Activation layers are used in functionval style."
   ]
  },
  {
   "cell_type": "code",
   "execution_count": 9,
   "id": "624abb0d-bca6-4eda-9855-2897f05c626b",
   "metadata": {},
   "outputs": [],
   "source": [
    "import torch.nn.functional as F\n",
    "\n",
    "class MyNet(nn.Module):\n",
    "\n",
    "    def __init__(self):\n",
    "        super().__init__()\n",
    "        self.conv1    = nn.Conv2d(1, 16,  kernel_size=3)\n",
    "        self.conv2    = nn.Conv2d(16, 64, kernel_size=3)\n",
    "        self.dropout2 = nn.Dropout(0.4)\n",
    "        self.lin1     = nn.Linear(24*24*64, 128)\n",
    "        self.lin2     = nn.Linear(128, 10)\n",
    "\n",
    "    def forward(self, X):\n",
    "        t = F.relu(self.conv1(X))\n",
    "        t = self.dropout2(F.relu(self.conv2(t)))\n",
    "        t = t.flatten(start_dim=1)\n",
    "        t = F.relu(self.lin1(t))\n",
    "        t = F.softmax(self.lin2(t), dim=1)\n",
    "        return t"
   ]
  },
  {
   "cell_type": "markdown",
   "id": "d48c149a-2770-41fa-9bb5-36bddc033df4",
   "metadata": {},
   "source": [
    "Then we proceed by instantiating our custom CNN and we also create two more feed-forward networks for demonstration purposes."
   ]
  },
  {
   "cell_type": "code",
   "execution_count": 10,
   "id": "87efd35d-27fd-4739-bed7-ac1d9372a355",
   "metadata": {},
   "outputs": [],
   "source": [
    "mynet = MyNet()\n",
    "\n",
    "ffn = nn.Sequential(\n",
    "    nn.Flatten(),\n",
    "\n",
    "    nn.Sequential(\n",
    "        nn.Linear(28*28, 512),\n",
    "        nn.ReLU(),\n",
    "    ),\n",
    "\n",
    "    nn.BatchNorm1d(512),\n",
    "    nn.Sequential(\n",
    "        nn.Linear(512, 512),\n",
    "        nn.ReLU(),\n",
    "    ),\n",
    "\n",
    "    nn.BatchNorm1d(512),\n",
    "    nn.Sequential(\n",
    "        nn.Linear(512, 512),\n",
    "        nn.ReLU(),\n",
    "    ),\n",
    "\n",
    "    nn.Sequential(\n",
    "        nn.Linear(512, 10),\n",
    "        nn.Softmax(dim=1),\n",
    "    ),\n",
    ")\n",
    "\n",
    "small = nn.Sequential(\n",
    "    nn.Flatten(),\n",
    "    nn.Linear(28*28, 10),\n",
    "    nn.ReLU(),\n",
    "\n",
    "    nn.Linear(10, 10),\n",
    "    nn.Softmax(dim=1)\n",
    ")"
   ]
  },
  {
   "cell_type": "markdown",
   "id": "f337a217-f72c-466d-9d71-540ccfd82a0d",
   "metadata": {},
   "source": [
    "### Hooks\n",
    "\n",
    "PyTorch provides four callbacks' (hooks') flavour, differentiating between forward and backwards hooks (run on forward and backward pass respectivly) and ordinary and pre- hooks (run after and before the pass).\n",
    "\n",
    "Here we define two simple hooks to print out number of zeros in input and output during forward pass and to display norms of gradients on backward pass."
   ]
  },
  {
   "cell_type": "code",
   "execution_count": 11,
   "id": "2c666297-2387-4587-a01e-88091cc8bbc6",
   "metadata": {},
   "outputs": [],
   "source": [
    "@torch.no_grad\n",
    "def fw_hook(module, args, output) -> None:\n",
    "    input = args[0]\n",
    "    print(f\"Zeros in input:  {(input == 0).float().mean():.3%}\")\n",
    "    print(f\"Zeros in output: {(output == 0).float().mean():.3%}\")\n",
    "\n",
    "@torch.no_grad\n",
    "def bw_hook(module, grad_input, grad_output):\n",
    "    inp_norm = torch.mean(torch.tensor([torch.linalg.norm(grad) for grad in grad_input])).item() if grad_input[0] is not None else float('nan')\n",
    "    out_norm = torch.mean(torch.tensor([torch.linalg.norm(grad) for grad in grad_output])).item()\n",
    "    print(f\"Mean input norm  {inp_norm:.3f}\")\n",
    "    print(f\"Mean output norm {out_norm:.3f}\")"
   ]
  },
  {
   "cell_type": "markdown",
   "id": "f8e5ea86-03ab-4563-ba70-628af4beec83",
   "metadata": {},
   "source": [
    "We will register the hooks on `small` network and run one forward and backward pass."
   ]
  },
  {
   "cell_type": "code",
   "execution_count": 12,
   "id": "b93cb0d6-052d-4f51-b991-1ee4031bc695",
   "metadata": {},
   "outputs": [],
   "source": [
    "fw_handle = small.register_forward_hook(fw_hook)\n",
    "bw_handle = small.register_full_backward_hook(bw_hook)"
   ]
  },
  {
   "cell_type": "code",
   "execution_count": 13,
   "id": "bc9adf9d-9763-4ce5-92b0-3f1a14087006",
   "metadata": {},
   "outputs": [
    {
     "name": "stdout",
     "output_type": "stream",
     "text": [
      "Zeros in input:  80.074%\n",
      "Zeros in output: 0.000%\n"
     ]
    }
   ],
   "source": [
    "x, y = next(iter(train_loader))\n",
    "pred = small(x)"
   ]
  },
  {
   "cell_type": "code",
   "execution_count": 14,
   "id": "b3b8295a-7dff-44bf-a365-93404cd7ada8",
   "metadata": {},
   "outputs": [
    {
     "name": "stdout",
     "output_type": "stream",
     "text": [
      "Mean input norm  nan\n",
      "Mean output norm 0.168\n"
     ]
    }
   ],
   "source": [
    "loss = F.cross_entropy(pred, y)\n",
    "loss.backward()"
   ]
  },
  {
   "cell_type": "markdown",
   "id": "bf373669-deba-4382-92f0-8ae6cfb7eb77",
   "metadata": {},
   "source": [
    "Note that there is no gradient of whole net, because input to this module are data, so they have no gradient. To compute gradient of hidden layers we must use `children` method.\n",
    "\n",
    "To get rid of hooks we need to call `remove` from the handle returned by hook's registration."
   ]
  },
  {
   "cell_type": "code",
   "execution_count": 15,
   "id": "52991f07-5508-4706-8673-c798827d45c9",
   "metadata": {},
   "outputs": [],
   "source": [
    "fw_handle.remove()\n",
    "bw_handle.remove()\n",
    "\n",
    "pred = small(x)\n",
    "\n",
    "loss = F.cross_entropy(pred, y)\n",
    "loss.backward()"
   ]
  },
  {
   "cell_type": "markdown",
   "id": "fa8e84d4-8cb4-489d-90bb-4321fa59fdd3",
   "metadata": {},
   "source": [
    "### Child modules\n",
    "\n",
    "Children methods return iterators to all direct containees of parent container. For customly defined networks, such us above described `MyNet`, superclass `nn.Module` manages submodule registration during object's construction. Therefore any effects applied functionally will not be recorded and must be treated differently."
   ]
  },
  {
   "cell_type": "code",
   "execution_count": 16,
   "id": "d39ad5db-dce0-4ec4-900c-56eec2e91c3c",
   "metadata": {},
   "outputs": [
    {
     "name": "stdout",
     "output_type": "stream",
     "text": [
      "conv1 -> Conv2d(1, 16, kernel_size=(3, 3), stride=(1, 1))\n",
      "conv2 -> Conv2d(16, 64, kernel_size=(3, 3), stride=(1, 1))\n",
      "dropout2 -> Dropout(p=0.4, inplace=False)\n",
      "lin1 -> Linear(in_features=36864, out_features=128, bias=True)\n",
      "lin2 -> Linear(in_features=128, out_features=10, bias=True)\n"
     ]
    }
   ],
   "source": [
    "for name, child in mynet.named_children():\n",
    "    print(name, '->', child)"
   ]
  },
  {
   "cell_type": "code",
   "execution_count": 17,
   "id": "0944443b-3550-4ece-9928-718373c2b948",
   "metadata": {},
   "outputs": [
    {
     "name": "stdout",
     "output_type": "stream",
     "text": [
      "0 -> Flatten(start_dim=1, end_dim=-1)\n",
      "1 -> Sequential(\n",
      "  (0): Linear(in_features=784, out_features=512, bias=True)\n",
      "  (1): ReLU()\n",
      ")\n",
      "2 -> BatchNorm1d(512, eps=1e-05, momentum=0.1, affine=True, track_running_stats=True)\n",
      "3 -> Sequential(\n",
      "  (0): Linear(in_features=512, out_features=512, bias=True)\n",
      "  (1): ReLU()\n",
      ")\n",
      "4 -> BatchNorm1d(512, eps=1e-05, momentum=0.1, affine=True, track_running_stats=True)\n",
      "5 -> Sequential(\n",
      "  (0): Linear(in_features=512, out_features=512, bias=True)\n",
      "  (1): ReLU()\n",
      ")\n",
      "6 -> Sequential(\n",
      "  (0): Linear(in_features=512, out_features=10, bias=True)\n",
      "  (1): Softmax(dim=1)\n",
      ")\n"
     ]
    }
   ],
   "source": [
    "for name, child in ffn.named_children():\n",
    "    print(name, '->', child)"
   ]
  },
  {
   "cell_type": "markdown",
   "id": "987031ad-2aee-4997-8e57-ad7a4d8f9119",
   "metadata": {},
   "source": [
    "Let us define backward and forward hook that will print information not only about its arguments, but also the module that have called it."
   ]
  },
  {
   "cell_type": "code",
   "execution_count": 18,
   "id": "ce0389f8-6b9e-4717-8ab0-f2426e0dbe11",
   "metadata": {},
   "outputs": [],
   "source": [
    "def named_fw_hook(name):\n",
    "    def f(module, args, out):\n",
    "        inp = args[0]\n",
    "        print(f\"(fw) {name}: Neuron activation {(out != 0).float().mean():.3%}\")\n",
    "    return f\n",
    "\n",
    "def named_bw_hook(name):\n",
    "    def f(module, grad_input, grad_output):\n",
    "        inp_norm = torch.mean(torch.tensor([torch.linalg.norm(grad) for grad in grad_input])).item() if grad_input[0] is not None else float('nan')\n",
    "        out_norm = torch.mean(torch.tensor([torch.linalg.norm(grad) for grad in grad_output])).item()\n",
    "        print(f\"(bw) {name}: Mean input norm  {inp_norm:.3g}\")\n",
    "        print(f\"(bw) {name}: Mean output norm {out_norm:.3g}\")\n",
    "        pass\n",
    "    return f"
   ]
  },
  {
   "cell_type": "code",
   "execution_count": 19,
   "id": "33591772-cf4c-49ae-9517-926bda8cc5fe",
   "metadata": {},
   "outputs": [],
   "source": [
    "for name, child in mynet.named_children():\n",
    "    child.register_full_backward_hook(named_bw_hook(name))\n",
    "    child.register_forward_hook(named_fw_hook(name))"
   ]
  },
  {
   "cell_type": "markdown",
   "id": "aea6d752-ba26-4e3f-b0c0-f13fb631c0d6",
   "metadata": {},
   "source": [
    "Let us do One forward and one bacward pass"
   ]
  },
  {
   "cell_type": "code",
   "execution_count": 20,
   "id": "08ef2c45-5f99-4bc1-8bdd-efe2be2bf872",
   "metadata": {},
   "outputs": [
    {
     "name": "stdout",
     "output_type": "stream",
     "text": [
      "(fw) conv1: Neuron activation 100.000%\n",
      "(fw) conv2: Neuron activation 100.000%\n",
      "(fw) dropout2: Neuron activation 30.933%\n",
      "(fw) lin1: Neuron activation 100.000%\n",
      "(fw) lin2: Neuron activation 100.000%\n"
     ]
    }
   ],
   "source": [
    "x, y = next(iter(train_loader))\n",
    "r = mynet(x)"
   ]
  },
  {
   "cell_type": "code",
   "execution_count": 21,
   "id": "e081c15c-d710-4adb-a9af-46075650a857",
   "metadata": {},
   "outputs": [
    {
     "name": "stdout",
     "output_type": "stream",
     "text": [
      "(bw) lin2: Mean input norm  0.00986\n",
      "(bw) lin2: Mean output norm 0.0166\n",
      "(bw) lin1: Mean input norm  0.0041\n",
      "(bw) lin1: Mean output norm 0.0071\n",
      "(bw) dropout2: Mean input norm  0.00529\n",
      "(bw) dropout2: Mean output norm 0.0041\n",
      "(bw) conv2: Mean input norm  0.00218\n",
      "(bw) conv2: Mean output norm 0.0038\n",
      "(bw) conv1: Mean input norm  nan\n",
      "(bw) conv1: Mean output norm 0.00136\n"
     ]
    }
   ],
   "source": [
    "F.cross_entropy(r, y).backward()"
   ]
  },
  {
   "cell_type": "markdown",
   "id": "49a2794c-bdca-4074-9953-5589c10113a5",
   "metadata": {},
   "source": [
    "Next we will train our network for 5 batch-iterations with hooks installed."
   ]
  },
  {
   "cell_type": "code",
   "execution_count": 22,
   "id": "eb688319-70c4-424a-b92d-5bbc7fbe0aa7",
   "metadata": {},
   "outputs": [
    {
     "name": "stdout",
     "output_type": "stream",
     "text": [
      "New iteration\n",
      "(fw) conv1: Neuron activation 100.000%\n",
      "(fw) conv2: Neuron activation 100.000%\n",
      "(fw) dropout2: Neuron activation 31.011%\n",
      "(fw) lin1: Neuron activation 100.000%\n",
      "(fw) lin2: Neuron activation 100.000%\n",
      "(bw) lin2: Mean input norm  0.00996\n",
      "(bw) lin2: Mean output norm 0.017\n",
      "(bw) lin1: Mean input norm  0.00415\n",
      "(bw) lin1: Mean output norm 0.00719\n",
      "(bw) dropout2: Mean input norm  0.00536\n",
      "(bw) dropout2: Mean output norm 0.00415\n",
      "(bw) conv2: Mean input norm  0.00222\n",
      "(bw) conv2: Mean output norm 0.00386\n",
      "(bw) conv1: Mean input norm  nan\n",
      "(bw) conv1: Mean output norm 0.00139\n",
      "New iteration\n",
      "(fw) conv1: Neuron activation 100.000%\n",
      "(fw) conv2: Neuron activation 100.000%\n",
      "(fw) dropout2: Neuron activation 30.014%\n",
      "(fw) lin1: Neuron activation 100.000%\n",
      "(fw) lin2: Neuron activation 100.000%\n",
      "(bw) lin2: Mean input norm  0.0143\n",
      "(bw) lin2: Mean output norm 0.0242\n",
      "(bw) lin1: Mean input norm  0.00841\n",
      "(bw) lin1: Mean output norm 0.0102\n",
      "(bw) dropout2: Mean input norm  0.0109\n",
      "(bw) dropout2: Mean output norm 0.00841\n",
      "(bw) conv2: Mean input norm  0.00503\n",
      "(bw) conv2: Mean output norm 0.00833\n",
      "(bw) conv1: Mean input norm  nan\n",
      "(bw) conv1: Mean output norm 0.00335\n",
      "New iteration\n",
      "(fw) conv1: Neuron activation 100.000%\n",
      "(fw) conv2: Neuron activation 100.000%\n",
      "(fw) dropout2: Neuron activation 33.960%\n",
      "(fw) lin1: Neuron activation 100.000%\n",
      "(fw) lin2: Neuron activation 100.000%\n",
      "(bw) lin2: Mean input norm  0.00324\n",
      "(bw) lin2: Mean output norm 0.00541\n",
      "(bw) lin1: Mean input norm  0.00268\n",
      "(bw) lin1: Mean output norm 0.00213\n",
      "(bw) dropout2: Mean input norm  0.00347\n",
      "(bw) dropout2: Mean output norm 0.00268\n",
      "(bw) conv2: Mean input norm  0.00202\n",
      "(bw) conv2: Mean output norm 0.00297\n",
      "(bw) conv1: Mean input norm  nan\n",
      "(bw) conv1: Mean output norm 0.00153\n",
      "New iteration\n",
      "(fw) conv1: Neuron activation 100.000%\n",
      "(fw) conv2: Neuron activation 100.000%\n",
      "(fw) dropout2: Neuron activation 35.128%\n",
      "(fw) lin1: Neuron activation 100.000%\n",
      "(fw) lin2: Neuron activation 100.000%\n",
      "(bw) lin2: Mean input norm  0.00371\n",
      "(bw) lin2: Mean output norm 0.00562\n",
      "(bw) lin1: Mean input norm  0.00301\n",
      "(bw) lin1: Mean output norm 0.00216\n",
      "(bw) dropout2: Mean input norm  0.00389\n",
      "(bw) dropout2: Mean output norm 0.00301\n",
      "(bw) conv2: Mean input norm  0.00217\n",
      "(bw) conv2: Mean output norm 0.00328\n",
      "(bw) conv1: Mean input norm  nan\n",
      "(bw) conv1: Mean output norm 0.00158\n",
      "New iteration\n",
      "(fw) conv1: Neuron activation 100.000%\n",
      "(fw) conv2: Neuron activation 100.000%\n",
      "(fw) dropout2: Neuron activation 26.598%\n",
      "(fw) lin1: Neuron activation 100.000%\n",
      "(fw) lin2: Neuron activation 100.000%\n",
      "(bw) lin2: Mean input norm  0.0157\n",
      "(bw) lin2: Mean output norm 0.0258\n",
      "(bw) lin1: Mean input norm  0.0141\n",
      "(bw) lin1: Mean output norm 0.0091\n",
      "(bw) dropout2: Mean input norm  0.0182\n",
      "(bw) dropout2: Mean output norm 0.0141\n",
      "(bw) conv2: Mean input norm  0.00757\n",
      "(bw) conv2: Mean output norm 0.0117\n",
      "(bw) conv1: Mean input norm  nan\n",
      "(bw) conv1: Mean output norm 0.00511\n"
     ]
    }
   ],
   "source": [
    "from itertools import islice\n",
    "\n",
    "optimizer = torch.optim.NAdam(\n",
    "    mynet.parameters()\n",
    ")\n",
    "for data, labels in islice(train_loader, 5):\n",
    "    print('New iteration')\n",
    "    optimizer.zero_grad()\n",
    "    pred = mynet(data)\n",
    "    loss = F.cross_entropy(pred, labels)\n",
    "    loss.backward()\n",
    "    optimizer.step()\n",
    "        "
   ]
  },
  {
   "cell_type": "markdown",
   "id": "a8f0c1ec-12b1-447b-9c8f-0817626636b3",
   "metadata": {},
   "source": [
    "We have obtained a mass of data, let us try it on even deeper net."
   ]
  },
  {
   "cell_type": "code",
   "execution_count": 23,
   "id": "78658bf6-2ee6-4757-9d80-c6ae9992beb1",
   "metadata": {},
   "outputs": [
    {
     "name": "stdout",
     "output_type": "stream",
     "text": [
      "New iteration\n",
      "(fw) 0: Neuron activation 18.355%\n",
      "(fw) 1: Neuron activation 51.453%\n",
      "(fw) 2: Neuron activation 98.633%\n",
      "(fw) 3: Neuron activation 50.043%\n",
      "(fw) 4: Neuron activation 100.000%\n",
      "(fw) 5: Neuron activation 50.201%\n",
      "(fw) 6: Neuron activation 100.000%\n",
      "(bw) 6: Mean input norm  0.00961\n",
      "(bw) 6: Mean output norm 0.168\n",
      "(bw) 5: Mean input norm  0.00395\n",
      "(bw) 5: Mean output norm 0.00961\n",
      "(bw) 4: Mean input norm  0.0123\n",
      "(bw) 4: Mean output norm 0.00395\n",
      "(bw) 3: Mean input norm  0.00504\n",
      "(bw) 3: Mean output norm 0.0123\n",
      "(bw) 2: Mean input norm  0.22\n",
      "(bw) 2: Mean output norm 0.00504\n",
      "(bw) 1: Mean input norm  nan\n",
      "(bw) 1: Mean output norm 0.22\n",
      "New iteration\n",
      "(fw) 0: Neuron activation 17.877%\n",
      "(fw) 1: Neuron activation 51.086%\n",
      "(fw) 2: Neuron activation 100.000%\n",
      "(fw) 3: Neuron activation 49.323%\n",
      "(fw) 4: Neuron activation 100.000%\n",
      "(fw) 5: Neuron activation 49.512%\n",
      "(fw) 6: Neuron activation 100.000%\n",
      "(bw) 6: Mean input norm  0.0157\n",
      "(bw) 6: Mean output norm 0.166\n",
      "(bw) 5: Mean input norm  0.0068\n",
      "(bw) 5: Mean output norm 0.0157\n",
      "(bw) 4: Mean input norm  0.0195\n",
      "(bw) 4: Mean output norm 0.0068\n",
      "(bw) 3: Mean input norm  0.00867\n",
      "(bw) 3: Mean output norm 0.0195\n",
      "(bw) 2: Mean input norm  0.509\n",
      "(bw) 2: Mean output norm 0.00867\n",
      "(bw) 1: Mean input norm  nan\n",
      "(bw) 1: Mean output norm 0.509\n",
      "New iteration\n",
      "(fw) 0: Neuron activation 18.874%\n",
      "(fw) 1: Neuron activation 50.507%\n",
      "(fw) 2: Neuron activation 100.000%\n",
      "(fw) 3: Neuron activation 49.225%\n",
      "(fw) 4: Neuron activation 100.000%\n",
      "(fw) 5: Neuron activation 49.365%\n",
      "(fw) 6: Neuron activation 100.000%\n",
      "(bw) 6: Mean input norm  0.017\n",
      "(bw) 6: Mean output norm 0.161\n",
      "(bw) 5: Mean input norm  0.00822\n",
      "(bw) 5: Mean output norm 0.017\n",
      "(bw) 4: Mean input norm  0.0218\n",
      "(bw) 4: Mean output norm 0.00822\n",
      "(bw) 3: Mean input norm  0.0104\n",
      "(bw) 3: Mean output norm 0.0218\n",
      "(bw) 2: Mean input norm  0.774\n",
      "(bw) 2: Mean output norm 0.0104\n",
      "(bw) 1: Mean input norm  nan\n",
      "(bw) 1: Mean output norm 0.774\n",
      "New iteration\n",
      "(fw) 0: Neuron activation 18.363%\n",
      "(fw) 1: Neuron activation 51.788%\n",
      "(fw) 2: Neuron activation 100.000%\n",
      "(fw) 3: Neuron activation 49.463%\n",
      "(fw) 4: Neuron activation 100.000%\n",
      "(fw) 5: Neuron activation 48.755%\n",
      "(fw) 6: Neuron activation 100.000%\n",
      "(bw) 6: Mean input norm  0.0141\n",
      "(bw) 6: Mean output norm 0.161\n",
      "(bw) 5: Mean input norm  0.00767\n",
      "(bw) 5: Mean output norm 0.0141\n",
      "(bw) 4: Mean input norm  0.0202\n",
      "(bw) 4: Mean output norm 0.00767\n",
      "(bw) 3: Mean input norm  0.0105\n",
      "(bw) 3: Mean output norm 0.0202\n",
      "(bw) 2: Mean input norm  0.604\n",
      "(bw) 2: Mean output norm 0.0105\n",
      "(bw) 1: Mean input norm  nan\n",
      "(bw) 1: Mean output norm 0.604\n",
      "New iteration\n",
      "(fw) 0: Neuron activation 18.646%\n",
      "(fw) 1: Neuron activation 51.056%\n",
      "(fw) 2: Neuron activation 100.000%\n",
      "(fw) 3: Neuron activation 48.425%\n",
      "(fw) 4: Neuron activation 100.000%\n",
      "(fw) 5: Neuron activation 47.662%\n",
      "(fw) 6: Neuron activation 100.000%\n",
      "(bw) 6: Mean input norm  0.0165\n",
      "(bw) 6: Mean output norm 0.158\n",
      "(bw) 5: Mean input norm  0.00923\n",
      "(bw) 5: Mean output norm 0.0165\n",
      "(bw) 4: Mean input norm  0.0221\n",
      "(bw) 4: Mean output norm 0.00923\n",
      "(bw) 3: Mean input norm  0.0123\n",
      "(bw) 3: Mean output norm 0.0221\n",
      "(bw) 2: Mean input norm  0.796\n",
      "(bw) 2: Mean output norm 0.0123\n",
      "(bw) 1: Mean input norm  nan\n",
      "(bw) 1: Mean output norm 0.796\n"
     ]
    }
   ],
   "source": [
    "for name, child in ffn.named_children():\n",
    "    child.register_full_backward_hook(named_bw_hook(name))\n",
    "    child.register_forward_hook(named_fw_hook(name))\n",
    "\n",
    "optimizer = torch.optim.NAdam(\n",
    "    ffn.parameters()\n",
    ")\n",
    "\n",
    "for data, labels in islice(train_loader, 5):\n",
    "    print('New iteration')\n",
    "    optimizer.zero_grad()\n",
    "    pred = ffn(data)\n",
    "    loss = F.cross_entropy(pred, labels)\n",
    "    loss.backward()\n",
    "    optimizer.step()"
   ]
  },
  {
   "cell_type": "markdown",
   "id": "cd1d3288-0b7d-4c4c-a721-f78a26765bc8",
   "metadata": {},
   "source": [
    "## Conclusion\n",
    "\n",
    "This notebook shows technological foundations of Monitorch. The library adds a number of little machines and metrics to monitor neural network training efficiently."
   ]
  },
  {
   "cell_type": "code",
   "execution_count": null,
   "id": "4c2677f6-f8a1-4a09-ae83-e22c68dfc628",
   "metadata": {},
   "outputs": [],
   "source": []
  }
 ],
 "metadata": {
  "kernelspec": {
   "display_name": "Python 3 (ipykernel)",
   "language": "python",
   "name": "python3"
  },
  "language_info": {
   "codemirror_mode": {
    "name": "ipython",
    "version": 3
   },
   "file_extension": ".py",
   "mimetype": "text/x-python",
   "name": "python",
   "nbconvert_exporter": "python",
   "pygments_lexer": "ipython3",
   "version": "3.10.18"
  }
 },
 "nbformat": 4,
 "nbformat_minor": 5
}
