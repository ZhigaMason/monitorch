{
 "cells": [
  {
   "cell_type": "code",
   "execution_count": 6,
   "id": "aee0ba03-72cd-4d43-8c07-049fa54fc686",
   "metadata": {},
   "outputs": [],
   "source": [
    "import torch\n",
    "import torch.nn as nn\n",
    "from torch.utils.data import Dataset, DataLoader\n",
    "from torchvision import datasets\n",
    "from torchvision.transforms import ToTensor\n",
    "import matplotlib.pyplot as plt"
   ]
  },
  {
   "cell_type": "code",
   "execution_count": 17,
   "id": "8f5f3bc8-9754-44d5-aed7-0cd3da228e23",
   "metadata": {},
   "outputs": [
    {
     "name": "stderr",
     "output_type": "stream",
     "text": [
      "100.0%\n",
      "100.0%\n",
      "100.0%\n",
      "100.0%\n"
     ]
    }
   ],
   "source": [
    "training_data = datasets.MNIST(\n",
    "    root=\"data\",\n",
    "    train=True,\n",
    "    download=True,\n",
    "    transform=ToTensor()\n",
    ")\n",
    "\n",
    "test_data = datasets.MNIST(\n",
    "    root=\"data\",\n",
    "    train=False,\n",
    "    download=True,\n",
    "    transform=ToTensor()\n",
    ")"
   ]
  },
  {
   "cell_type": "code",
   "execution_count": 18,
   "id": "b764bd49-47f3-4157-bb0f-eb7bcaf2e902",
   "metadata": {},
   "outputs": [
    {
     "data": {
      "text/plain": [
       "torch.Size([1, 28, 28])"
      ]
     },
     "execution_count": 18,
     "metadata": {},
     "output_type": "execute_result"
    }
   ],
   "source": [
    "training_data[0][0].shape"
   ]
  },
  {
   "cell_type": "code",
   "execution_count": 22,
   "id": "f1444f90-944c-4002-b9a3-fcf381e38f5f",
   "metadata": {},
   "outputs": [
    {
     "data": {
      "image/png": "[encoded data removed]",
      "text/plain": [
       "<Figure size 700x700 with 9 Axes>"
      ]
     },
     "metadata": {},
     "output_type": "display_data"
    }
   ],
   "source": [
    "fig, axes = plt.subplots(3,3, figsize=(7,7))\n",
    "\n",
    "for i, j in [(i,j) for i in range(3) for j in range(3)]:\n",
    "    sample_idx = torch.randint(len(training_data), size=(1,)).item()\n",
    "    img, label = training_data[sample_idx]\n",
    "    axes[i, j].set_title(label)\n",
    "    axes[i, j].axis('off')\n",
    "    axes[i, j].imshow(img[0])"
   ]
  },
  {
   "cell_type": "code",
   "execution_count": 52,
   "id": "409ca11a-f0ed-4d1a-9968-68c716365fc3",
   "metadata": {},
   "outputs": [],
   "source": [
    "from torch.utils.tensorboard import SummaryWriter\n",
    "import time\n",
    "import numpy as np\n",
    "\n",
    "writer = SummaryWriter(\n",
    "    max_queue=1,\n",
    "    flush_secs=5\n",
    ")"
   ]
  },
  {
   "cell_type": "code",
   "execution_count": null,
   "id": "4c8a0df6-45fe-485b-9956-db5e35ea09e1",
   "metadata": {},
   "outputs": [],
   "source": [
    "for i in range(10):\n",
    "    writer.add_scalar('Det/Linear', i, i)\n",
    "    writer.add_scalar('Det/Quad', i**2 - 4*i, i)\n",
    "    writer.add_scalar('Stoch/np.random', np.random.random(), i)"
   ]
  },
  {
   "cell_type": "code",
   "execution_count": 51,
   "id": "745b5cab-4bf8-4e77-a766-6e47b26127fd",
   "metadata": {},
   "outputs": [],
   "source": [
    "!rm -r runs"
   ]
  },
  {
   "cell_type": "code",
   "execution_count": 53,
   "id": "aaad042d-9d7b-4fdd-9f9c-150d98c9ae54",
   "metadata": {},
   "outputs": [],
   "source": [
    "for i in range(10):\n",
    "    writer.add_scalar('Sloww/Det/Linear', 7 + np.random.random(), i)\n",
    "    writer.add_scalar('Sloww/Det/Quad', -i**2 + 7*np.random.random(), i)\n",
    "    writer.add_scalar('Sloww/Stoch/np.random', np.random.random() ** 2, i)\n",
    "    time.sleep(10)"
   ]
  },
  {
   "cell_type": "code",
   "execution_count": 44,
   "id": "e17a1205-37a8-4de2-94dc-bcf1132b7e07",
   "metadata": {},
   "outputs": [
    {
     "data": {
      "text/plain": [
       "\u001b[31mInit signature:\u001b[39m\n",
       "SummaryWriter(\n",
       "    log_dir=\u001b[38;5;28;01mNone\u001b[39;00m,\n",
       "    comment=\u001b[33m''\u001b[39m,\n",
       "    purge_step=\u001b[38;5;28;01mNone\u001b[39;00m,\n",
       "    max_queue=\u001b[32m10\u001b[39m,\n",
       "    flush_secs=\u001b[32m120\u001b[39m,\n",
       "    filename_suffix=\u001b[33m''\u001b[39m,\n",
       ")\n",
       "\u001b[31mDocstring:\u001b[39m     \n",
       "Writes entries directly to event files in the log_dir to be consumed by TensorBoard.\n",
       "\n",
       "The `SummaryWriter` class provides a high-level API to create an event file\n",
       "in a given directory and add summaries and events to it. The class updates the\n",
       "file contents asynchronously. This allows a training program to call methods\n",
       "to add data to the file directly from the training loop, without slowing down\n",
       "training.\n",
       "\u001b[31mInit docstring:\u001b[39m\n",
       "Create a `SummaryWriter` that will write out events and summaries to the event file.\n",
       "\n",
       "Args:\n",
       "    log_dir (str): Save directory location. Default is\n",
       "      runs/**CURRENT_DATETIME_HOSTNAME**, which changes after each run.\n",
       "      Use hierarchical folder structure to compare\n",
       "      between runs easily. e.g. pass in 'runs/exp1', 'runs/exp2', etc.\n",
       "      for each new experiment to compare across them.\n",
       "    comment (str): Comment log_dir suffix appended to the default\n",
       "      ``log_dir``. If ``log_dir`` is assigned, this argument has no effect.\n",
       "    purge_step (int):\n",
       "      When logging crashes at step :math:`T+X` and restarts at step :math:`T`,\n",
       "      any events whose global_step larger or equal to :math:`T` will be\n",
       "      purged and hidden from TensorBoard.\n",
       "      Note that crashed and resumed experiments should have the same ``log_dir``.\n",
       "    max_queue (int): Size of the queue for pending events and\n",
       "      summaries before one of the 'add' calls forces a flush to disk.\n",
       "      Default is ten items.\n",
       "    flush_secs (int): How often, in seconds, to flush the\n",
       "      pending events and summaries to disk. Default is every two minutes.\n",
       "    filename_suffix (str): Suffix added to all event filenames in\n",
       "      the log_dir directory. More details on filename construction in\n",
       "      tensorboard.summary.writer.event_file_writer.EventFileWriter.\n",
       "\n",
       "Examples::\n",
       "\n",
       "    from torch.utils.tensorboard import SummaryWriter\n",
       "\n",
       "    # create a summary writer with automatically generated folder name.\n",
       "    writer = SummaryWriter()\n",
       "    # folder location: runs/May04_22-14-54_s-MacBook-Pro.local/\n",
       "\n",
       "    # create a summary writer using the specified folder name.\n",
       "    writer = SummaryWriter(\"my_experiment\")\n",
       "    # folder location: my_experiment\n",
       "\n",
       "    # create a summary writer with comment appended.\n",
       "    writer = SummaryWriter(comment=\"LR_0.1_BATCH_16\")\n",
       "    # folder location: runs/May04_22-14-54_s-MacBook-Pro.localLR_0.1_BATCH_16/\n",
       "\u001b[31mFile:\u001b[39m           ~/Sideprojects/monitorch/.venv/lib/python3.12/site-packages/torch/utils/tensorboard/writer.py\n",
       "\u001b[31mType:\u001b[39m           type\n",
       "\u001b[31mSubclasses:\u001b[39m     "
      ]
     },
     "metadata": {},
     "output_type": "display_data"
    }
   ],
   "source": [
    "SummaryWriter?"
   ]
  },
  {
   "cell_type": "code",
   "execution_count": null,
   "id": "a7fe8a3c-0df1-4588-96de-b41ab5e92249",
   "metadata": {},
   "outputs": [],
   "source": []
  }
 ],
 "metadata": {
  "kernelspec": {
   "display_name": "Python 3 (ipykernel)",
   "language": "python",
   "name": "python3"
  },
  "language_info": {
   "codemirror_mode": {
    "name": "ipython",
    "version": 3
   },
   "file_extension": ".py",
   "mimetype": "text/x-python",
   "name": "python",
   "nbconvert_exporter": "python",
   "pygments_lexer": "ipython3",
   "version": "3.12.3"
  }
 },
 "nbformat": 4,
 "nbformat_minor": 5
}
